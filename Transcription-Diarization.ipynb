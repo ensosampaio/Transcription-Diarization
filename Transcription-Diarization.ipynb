{
 "cells": [
  {
   "cell_type": "markdown",
   "id": "3f7caa2c",
   "metadata": {},
   "source": [
    "# Transcrição com Diarização de Fala\n",
    "Este notebook realiza a transcrição automática de áudio com identificação de diferentes locutores (diarização), utilizando modelos como Whisper e ferramentas como PyAnnote."
   ]
  },
  {
   "cell_type": "code",
   "execution_count": null,
   "id": "4a1db053",
   "metadata": {
    "id": "4a1db053"
   },
   "outputs": [],
   "source": [
    "# Transcrição com Diarização (Whisper + Pyannote)"
   ]
  },
  {
   "cell_type": "code",
   "execution_count": null,
   "id": "03286157",
   "metadata": {
    "id": "03286157"
   },
   "outputs": [],
   "source": [
    "## Instalação das dependências"
   ]
  },
  {
   "cell_type": "markdown",
   "id": "65742a53",
   "metadata": {},
   "source": [
    "## 1. Instalação de dependências\n",
    "Instala os pacotes necessários para transcrição e diarização, como `faster-whisper` e `pyannote-audio`."
   ]
  },
  {
   "cell_type": "code",
   "execution_count": null,
   "id": "030ff117",
   "metadata": {
    "colab": {
     "base_uri": "https://localhost:8080/"
    },
    "id": "030ff117",
    "outputId": "1dddf30c-69a8-4a61-8f63-a8da0990ffff"
   },
   "outputs": [],
   "source": [
    "!pip install openai-whisper pyannote.audio torch librosa ffmpeg-python"
   ]
  },
  {
   "cell_type": "code",
   "execution_count": null,
   "id": "8651589e",
   "metadata": {
    "id": "8651589e"
   },
   "outputs": [],
   "source": [
    "import whisper\n",
    "from pyannote.audio import Pipeline\n",
    "from datetime import timedelta\n",
    "import textwrap"
   ]
  },
  {
   "cell_type": "code",
   "execution_count": null,
   "id": "458b8e49",
   "metadata": {
    "id": "458b8e49"
   },
   "outputs": [],
   "source": [
    "# === CONFIGURAÇÕES ==="
   ]
  },
  {
   "cell_type": "code",
   "execution_count": null,
   "id": "Qphhwn2I3Dfb",
   "metadata": {
    "colab": {
     "base_uri": "https://localhost:8080/"
    },
    "id": "Qphhwn2I3Dfb",
    "outputId": "2b729271-2bc6-4a5b-8358-f7222fe26922"
   },
   "outputs": [],
   "source": [
    "!ffmpeg -i  -ar 16000 -ac 1 saida.wav  #coloque o caminho do vídeo após o -i"
   ]
  },
  {
   "cell_type": "markdown",
   "id": "980e57bf",
   "metadata": {},
   "source": [
    "## 2. Carregamento do modelo\n",
    "Aqui é feito o download e carregamento do modelo de transcrição."
   ]
  },
  {
   "cell_type": "code",
   "execution_count": null,
   "id": "78adba4d",
   "metadata": {
    "id": "78adba4d"
   },
   "outputs": [],
   "source": [
    "AUDIO_PATH = \"\"  # Substitua pelo caminho do seu áudio"
   ]
  },
  {
   "cell_type": "code",
   "execution_count": null,
   "id": "40436944",
   "metadata": {
    "id": "40436944"
   },
   "outputs": [],
   "source": [
    "HUGGINGFACE_TOKEN = \"\"  # Gere em: https://huggingface.co/settings/tokens"
   ]
  },
  {
   "cell_type": "code",
   "execution_count": null,
   "id": "31e174ad",
   "metadata": {
    "id": "31e174ad"
   },
   "outputs": [],
   "source": [
    "## Transcrição com Whisper"
   ]
  },
  {
   "cell_type": "code",
   "execution_count": null,
   "id": "06ca5748",
   "metadata": {
    "colab": {
     "base_uri": "https://localhost:8080/"
    },
    "id": "06ca5748",
    "outputId": "42901c28-056c-4d13-f315-9e113fb9499e"
   },
   "outputs": [],
   "source": [
    "print(\"Transcrevendo com Whisper...\")\n",
    "model = whisper.load_model(\"turbo\") #coloque o modelo que voce preferir, recomendado o turbo"
   ]
  },
  {
   "cell_type": "markdown",
   "id": "b6611c27",
   "metadata": {},
   "source": [
    "## 3. Carregamento e pré-processamento do áudio\n",
    "Esta seção faz o upload ou carregamento do arquivo de áudio e sua preparação para análise."
   ]
  },
  {
   "cell_type": "code",
   "execution_count": null,
   "id": "OgweUSU7-gcL",
   "metadata": {
    "colab": {
     "base_uri": "https://localhost:8080/"
    },
    "id": "OgweUSU7-gcL",
    "outputId": "74908343-013e-4f34-bd5a-83e707bc7dca"
   },
   "outputs": [],
   "source": [
    "result = model.transcribe(AUDIO_PATH, verbose=False)"
   ]
  },
  {
   "cell_type": "code",
   "execution_count": null,
   "id": "j3vmiCTAtkJK",
   "metadata": {
    "colab": {
     "base_uri": "https://localhost:8080/"
    },
    "id": "j3vmiCTAtkJK",
    "outputId": "29a8f66e-9a2c-4286-fa75-4941d750077e"
   },
   "outputs": [],
   "source": [
    "transcribed_text = result['text']\n",
    "print(\"Texto transcrito:\", transcribed_text)"
   ]
  },
  {
   "cell_type": "code",
   "execution_count": null,
   "id": "032216d9",
   "metadata": {
    "id": "032216d9"
   },
   "outputs": [],
   "source": [
    "segments = result[\"segments\"]"
   ]
  },
  {
   "cell_type": "code",
   "execution_count": null,
   "id": "feaff8dc",
   "metadata": {
    "id": "feaff8dc"
   },
   "outputs": [],
   "source": [
    "## Diarização com Pyannote"
   ]
  },
  {
   "cell_type": "markdown",
   "id": "9ea2de72",
   "metadata": {},
   "source": [
    "## 4. Diarização de locutores\n",
    "Detecta automaticamente os diferentes locutores presentes no áudio."
   ]
  },
  {
   "cell_type": "code",
   "execution_count": null,
   "id": "6d8572e4",
   "metadata": {
    "colab": {
     "base_uri": "https://localhost:8080/"
    },
    "id": "6d8572e4",
    "outputId": "04f12a91-4687-4aac-f62d-6c818bd106e2"
   },
   "outputs": [],
   "source": [
    "print(\"Detectando falantes com pyannote...\")\n",
    "pipeline = Pipeline.from_pretrained(\"pyannote/speaker-diarization\", use_auth_token=\"\") #insira o token do huggingface"
   ]
  },
  {
   "cell_type": "code",
   "execution_count": null,
   "id": "e0756a14",
   "metadata": {
    "colab": {
     "background_save": true
    },
    "id": "e0756a14",
    "outputId": "4c242fe3-c8bf-4df8-ad43-63ac43b4d740"
   },
   "outputs": [],
   "source": [
    "diarization = pipeline(AUDIO_PATH)"
   ]
  },
  {
   "cell_type": "code",
   "execution_count": null,
   "id": "b2903703",
   "metadata": {
    "colab": {
     "background_save": true
    },
    "id": "b2903703"
   },
   "outputs": [],
   "source": [
    "## Combinação das falas com os falantes"
   ]
  },
  {
   "cell_type": "code",
   "execution_count": null,
   "id": "6e213ff2",
   "metadata": {
    "colab": {
     "background_save": true
    },
    "id": "6e213ff2"
   },
   "outputs": [],
   "source": [
    "def sec_to_timestamp(sec):\n",
    "  return str(timedelta(seconds=int(sec)))"
   ]
  },
  {
   "cell_type": "code",
   "execution_count": null,
   "id": "c8864045",
   "metadata": {
    "colab": {
     "background_save": true
    },
    "id": "c8864045"
   },
   "outputs": [],
   "source": [
    "final_text = \"\"\n",
    "for segment in segments:\n",
    "    start = segment[\"start\"]\n",
    "    end = segment[\"end\"]\n",
    "    text = segment[\"text\"].strip()\n",
    "\n",
    "\n",
    "    speaker_label = \"Speaker ?\"\n",
    "\n",
    "\n",
    "    for turn, _, speaker in diarization.itertracks(yield_label=True):\n",
    "        if turn.start <= start <= turn.end or turn.start <= end <= turn.end:\n",
    "            speaker_label = speaker\n",
    "            break\n",
    "\n",
    "\n",
    "    final_text += f\"{speaker_label}: {text}\\n\"\n",
    "\n",
    "\n",
    "print(final_text)"
   ]
  },
  {
   "cell_type": "markdown",
   "id": "ba2497c9",
   "metadata": {},
   "source": [
    "## 5. Transcrição com alinhamento por locutor\n",
    "Cada trecho de fala é transcrito e associado ao respectivo locutor."
   ]
  },
  {
   "cell_type": "code",
   "execution_count": null,
   "id": "39e14a68",
   "metadata": {
    "colab": {
     "background_save": true
    },
    "id": "39e14a68"
   },
   "outputs": [],
   "source": [
    "## Salvar o resultado"
   ]
  },
  {
   "cell_type": "code",
   "execution_count": null,
   "id": "e0240a28",
   "metadata": {
    "colab": {
     "background_save": true
    },
    "id": "e0240a28"
   },
   "outputs": [],
   "source": [
    "with open(\"transcricao_com_falantes.txt\", \"w\", encoding=\"utf-8\") as f:\n",
    "  f.write(final_text)"
   ]
  },
  {
   "cell_type": "code",
   "execution_count": null,
   "id": "6be71363",
   "metadata": {
    "colab": {
     "background_save": true
    },
    "id": "6be71363"
   },
   "outputs": [],
   "source": [
    "print(\"Arquivo salvo como 'transcricao_com_falantes.txt'\")"
   ]
  },
  {
   "cell_type": "markdown",
   "id": "f4b111ea",
   "metadata": {},
   "source": [
    "## 6. Salvamento ou exibição dos resultados\n",
    "Aqui são exibidos ou exportados os resultados finais da transcrição com diarização."
   ]
  }
 ],
 "metadata": {
  "accelerator": "GPU",
  "colab": {
   "gpuType": "T4",
   "provenance": []
  },
  "kernelspec": {
   "display_name": "Python 3",
   "name": "python3"
  },
  "language_info": {
   "name": "python",
   "version": "3.11.9"
  }
 },
 "nbformat": 4,
 "nbformat_minor": 5
}
